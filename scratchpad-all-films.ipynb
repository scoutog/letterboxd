{
 "cells": [
  {
   "cell_type": "code",
   "execution_count": null,
   "id": "9824f34d",
   "metadata": {},
   "outputs": [],
   "source": [
    "import pandas as pd\n",
    "import requests\n",
    "from bs4 import BeautifulSoup\n",
    "from tqdm import tqdm"
   ]
  },
  {
   "cell_type": "code",
   "execution_count": null,
   "id": "b8f6498e",
   "metadata": {},
   "outputs": [],
   "source": [
    "base_url = 'https://letterboxd.com'\n",
    "user = 'scoutog'\n",
    "len_user_name = len(user) + 1\n",
    "diary_urls = []\n",
    "ratings = [5, 4.5, 4, 3.5, 3, 2.5, 2, 1.5, 1, .5, 'none']\n",
    "df = pd.DataFrame()"
   ]
  },
  {
   "cell_type": "code",
   "execution_count": null,
   "id": "29253270",
   "metadata": {},
   "outputs": [],
   "source": [
    "def get_entry_details(dataframe, soup_entry, rating_num):\n",
    "    \n",
    "    data = []\n",
    "    \n",
    "    # Extract film titles and ratings\n",
    "    for film in film_list:\n",
    "        # Get film title from 'alt' attribute of 'img' tag\n",
    "        film_title = film.find('img')['alt']\n",
    "\n",
    "        # Get rating from the 'span' tag within 'p' tag with class 'poster-viewingdata'\n",
    "        if rating_num == 'none':\n",
    "            film_rating = \"\"\n",
    "            \n",
    "        else:\n",
    "            film_rating = film.find('p', class_='poster-viewingdata').find('span', class_='rating').text\n",
    "\n",
    "        # Appending the extracted information to the data list\n",
    "        data.append({\n",
    "            'Title': film_title,\n",
    "            'Rating_txt': film_rating,\n",
    "            'Rating_num' : rating_num\n",
    "        })\n",
    "\n",
    "    # Creating a DataFrame from the data list\n",
    "    entry_df = pd.DataFrame(data)\n",
    "    \n",
    "    df = pd.concat([dataframe, entry_df]).reset_index(drop=True)\n",
    "    \n",
    "    return df"
   ]
  },
  {
   "cell_type": "code",
   "execution_count": null,
   "id": "e65592de",
   "metadata": {},
   "outputs": [],
   "source": [
    "df = pd.DataFrame()\n",
    "\n",
    "# Loop through ratings\n",
    "for rating in tqdm(ratings):\n",
    "    page = 1\n",
    "    \n",
    "    # Loop through pages\n",
    "    while True:\n",
    "        r = requests.get(f'{base_url}/{user}/films/rated/{rating}/page/{page}/')\n",
    "        soup = BeautifulSoup(r.content, \"html.parser\")\n",
    "        \n",
    "        if soup.find('ul', class_='poster-list') == None:\n",
    "            break\n",
    "        elif len(soup.find('ul', class_='poster-list')) <= 1:\n",
    "            break\n",
    "        else:\n",
    "            film_list = soup.find('ul', class_='poster-list').find_all('li', class_='poster-container')\n",
    "            df = get_entry_details(df, film_list, rating)\n",
    "            page += 1"
   ]
  },
  {
   "cell_type": "code",
   "execution_count": null,
   "id": "f704a59c",
   "metadata": {},
   "outputs": [],
   "source": [
    "df"
   ]
  },
  {
   "cell_type": "code",
   "execution_count": null,
   "id": "c7338fb6",
   "metadata": {},
   "outputs": [],
   "source": [
    "pair_df = pd.DataFrame({'pair_key': list(zip(df['Title'], df['Rating_num']))})"
   ]
  },
  {
   "cell_type": "code",
   "execution_count": null,
   "id": "83cb0f16",
   "metadata": {},
   "outputs": [],
   "source": [
    "pair_df.pair_key.unique()"
   ]
  }
 ],
 "metadata": {
  "kernelspec": {
   "display_name": "Python 3 (ipykernel)",
   "language": "python",
   "name": "python3"
  },
  "language_info": {
   "codemirror_mode": {
    "name": "ipython",
    "version": 3
   },
   "file_extension": ".py",
   "mimetype": "text/x-python",
   "name": "python",
   "nbconvert_exporter": "python",
   "pygments_lexer": "ipython3",
   "version": "3.7.16"
  }
 },
 "nbformat": 4,
 "nbformat_minor": 5
}
