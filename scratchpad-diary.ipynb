{
 "cells": [
  {
   "cell_type": "code",
   "execution_count": null,
   "id": "9824f34d",
   "metadata": {},
   "outputs": [],
   "source": [
    "import pandas as pd\n",
    "import requests\n",
    "from bs4 import BeautifulSoup\n",
    "from tqdm import tqdm"
   ]
  },
  {
   "cell_type": "code",
   "execution_count": null,
   "id": "b8f6498e",
   "metadata": {},
   "outputs": [],
   "source": [
    "base_url = 'https://letterboxd.com'\n",
    "user = 'scoutog'\n",
    "len_user_name = len(user) + 1\n",
    "diary_urls = []\n",
    "ratings = [5, 4.5, 4, 3.5, 3, 2.5, 2, 1.5, 1, .5, 'none']\n",
    "df = pd.DataFrame()"
   ]
  },
  {
   "cell_type": "code",
   "execution_count": null,
   "id": "29253270",
   "metadata": {},
   "outputs": [],
   "source": [
    "def get_entry_details(dataframe, soup_entry, rating_num):\n",
    "    # Create a list to store the extracted data\n",
    "    data = []\n",
    "\n",
    "    for row in soup_entry:\n",
    "        # Extracting the movie title\n",
    "        title = row.select_one('h3.headline-3 a[href]').text\n",
    "\n",
    "        # Extracting the rating\n",
    "        rating = row.select_one('td.td-rating .rating').text.strip()\n",
    "\n",
    "        # Extracting the viewing date\n",
    "        viewing_date = row.select_one('span.diary-entry-edit a.edit-review-button')['data-viewing-date']\n",
    "\n",
    "        # Extracting the release year\n",
    "        release_year = row.select_one('td.td-released').text.strip()\n",
    "\n",
    "        # Extracting the film poster URL\n",
    "        poster_url = row.select_one('div.really-lazy-load img.image')['src']\n",
    "\n",
    "        # Extracting the film ID\n",
    "        film_id = row.select_one('div.really-lazy-load')['data-film-id']\n",
    "\n",
    "        # Extracting the viewing ID\n",
    "        viewing_id = row['data-viewing-id']\n",
    "\n",
    "        # Extracting review text if available\n",
    "        review = row.select_one('a.edit-review-button')\n",
    "        review_text = review['data-review-text'] if review else ''\n",
    "\n",
    "        # Extracting rewatch status\n",
    "        rewatch = review['data-rewatch'] if review else 'false'\n",
    "\n",
    "        # Extracting user information\n",
    "        user = row['data-owner']\n",
    "\n",
    "        # Extracting links\n",
    "    #     film_link = row.select_one('h3.headline-3 a')['href']\n",
    "        film_link = base_url + row.select_one('h3.headline-3 a')['href'][len_user_name:]\n",
    "        diary_entry_link = row.select_one('td.td-day a')['href']\n",
    "\n",
    "        # Appending the extracted information to the data list\n",
    "        data.append({\n",
    "            'Title': title,\n",
    "            'Rating_txt': rating,\n",
    "            'Rating_num' : rating_num,\n",
    "            'Viewing Date': viewing_date,\n",
    "            'Release Year': release_year,\n",
    "#             'Poster URL': poster_url,\n",
    "#             'Film ID': film_id,\n",
    "#             'Viewing ID': viewing_id,\n",
    "            'Review Text': review_text,\n",
    "            'Rewatch': rewatch,\n",
    "#             'User': user,\n",
    "            'Film Link': film_link,\n",
    "#             'Diary Entry Link': diary_entry_link\n",
    "        })\n",
    "\n",
    "    # Creating a DataFrame from the data list\n",
    "    entry_df = pd.DataFrame(data)\n",
    "\n",
    "    # Displaying the DataFrame\n",
    "    df = pd.concat([dataframe, entry_df]).reset_index(drop=True)\n",
    "    \n",
    "    return df"
   ]
  },
  {
   "cell_type": "code",
   "execution_count": null,
   "id": "e65592de",
   "metadata": {},
   "outputs": [],
   "source": [
    "df = pd.DataFrame()\n",
    "\n",
    "# Loop through ratings\n",
    "for rating in tqdm(ratings):\n",
    "    page = 1\n",
    "    \n",
    "    # Loop through pages\n",
    "    while True:\n",
    "        \n",
    "        r = requests.get(f'{base_url}/{user}/films/diary/rated/{rating}/page/{page}/')\n",
    "        soup = BeautifulSoup(r.content, \"html.parser\")\n",
    "        \n",
    "        if soup.select('h3>a[href]') == []:\n",
    "            break\n",
    "        else:\n",
    "            df = get_entry_details(df, soup.select('tr.diary-entry-row'), rating)\n",
    "            page += 1"
   ]
  },
  {
   "cell_type": "code",
   "execution_count": null,
   "id": "147aa353",
   "metadata": {},
   "outputs": [],
   "source": [
    "for index, row in tqdm(df.iterrows(), total=df.shape[0], desc=\"Processing rows\"):\n",
    "    url = row['Film Link']\n",
    "    \n",
    "    r = requests.get(url)\n",
    "    soup = BeautifulSoup(r.content, \"html.parser\")\n",
    "    \n",
    "    cast_element = soup.select_one('#tab-cast p')\n",
    "    if cast_element:\n",
    "        cast_text = cast_element.get_text(',', strip=True)\n",
    "        cast_list = cast_text.split(',')[:10]  # Get the first 10 elements\n",
    "        df.at[index, 'Cast'] = ','.join(cast_list)  # Join them back into a string\n",
    "    else:\n",
    "        df.at[index, 'Cast'] = None  # or an appropriate default value"
   ]
  },
  {
   "cell_type": "code",
   "execution_count": null,
   "id": "c7338fb6",
   "metadata": {},
   "outputs": [],
   "source": [
    "pair_df = pd.DataFrame({'pair_key': list(zip(df['Title'], df['Rating_num']))})"
   ]
  },
  {
   "cell_type": "code",
   "execution_count": null,
   "id": "3324fb29",
   "metadata": {},
   "outputs": [],
   "source": [
    "pair_df.pair_key.unique()"
   ]
  }
 ],
 "metadata": {
  "kernelspec": {
   "display_name": "Python 3 (ipykernel)",
   "language": "python",
   "name": "python3"
  },
  "language_info": {
   "codemirror_mode": {
    "name": "ipython",
    "version": 3
   },
   "file_extension": ".py",
   "mimetype": "text/x-python",
   "name": "python",
   "nbconvert_exporter": "python",
   "pygments_lexer": "ipython3",
   "version": "3.7.16"
  }
 },
 "nbformat": 4,
 "nbformat_minor": 5
}
